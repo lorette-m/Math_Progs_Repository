{
 "cells": [
  {
   "cell_type": "markdown",
   "id": "8949dea9-c701-49c3-884c-b98afdac025a",
   "metadata": {},
   "source": [
    "# Links to labs\n",
    "* [Лабораторная 1](./mat_1/notebook.ipynb)\n",
    "* [Лабораторная 2](./mat_2/notebook.ipynb)\n",
    "* [Лабораторная 3](./mat_3/notebook.ipynb)\n",
    "* [Курсовая работа по Вычислительной Математике](./Coursework_CompMat/notebook.ipynb)\n",
    "* [Курсовая работа по Математическому Моделированию](./MM_Coursework/notebook.ipynb)"
   ]
  },
  {
   "cell_type": "code",
   "execution_count": null,
   "id": "f2d18024-d763-4a7e-9802-7f630ee915e6",
   "metadata": {},
   "outputs": [],
   "source": []
  }
 ],
 "metadata": {
  "kernelspec": {
   "display_name": "Python 3 (ipykernel)",
   "language": "python",
   "name": "python3"
  },
  "language_info": {
   "codemirror_mode": {
    "name": "ipython",
    "version": 3
   },
   "file_extension": ".py",
   "mimetype": "text/x-python",
   "name": "python",
   "nbconvert_exporter": "python",
   "pygments_lexer": "ipython3",
   "version": "3.11.9"
  }
 },
 "nbformat": 4,
 "nbformat_minor": 5
}
